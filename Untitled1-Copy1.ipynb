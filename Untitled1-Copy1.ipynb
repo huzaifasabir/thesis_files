{
 "cells": [
  {
   "cell_type": "code",
   "execution_count": 1,
   "metadata": {},
   "outputs": [],
   "source": [
    "import torchfile"
   ]
  },
  {
   "cell_type": "code",
   "execution_count": 5,
   "metadata": {},
   "outputs": [],
   "source": [
    "x = torchfile.load('lm_sje_nc4_cub_hybrid_gru18_a1_c512_0.00070_1_10_trainvalids.txt_iter30000.t7')"
   ]
  },
  {
   "cell_type": "code",
   "execution_count": 4,
   "metadata": {},
   "outputs": [
    {
     "name": "stdout",
     "output_type": "stream",
     "text": [
      "False\n",
      "4.2439915854e-314\n",
      "<torchfile.T7Reader object at 0x7ff6b00c3128>\n"
     ]
    }
   ],
   "source": [
    "with open('lm_sje_nc4_cub_hybrid_gru18_a1_c512_0.00070_1_10_trainvalids.txt_iter30000.t7','rb') as f:\n",
    "    r = torchfile.T7Reader(f)\n",
    "    print(r.read_boolean())\n",
    "    print(r.read_obj())\n",
    "    print(r)"
   ]
  },
  {
   "cell_type": "code",
   "execution_count": 33,
   "metadata": {
    "scrolled": true
   },
   "outputs": [
    {
     "ename": "TypeError",
     "evalue": "'NoneType' object is not callable",
     "output_type": "error",
     "traceback": [
      "\u001b[0;31m---------------------------------------------------------------------------\u001b[0m",
      "\u001b[0;31mTypeError\u001b[0m                                 Traceback (most recent call last)",
      "\u001b[0;32m<ipython-input-33-14149052c823>\u001b[0m in \u001b[0;36m<module>\u001b[0;34m()\u001b[0m\n\u001b[0;32m----> 1\u001b[0;31m \u001b[0mprint\u001b[0m\u001b[0;34m(\u001b[0m\u001b[0mx\u001b[0m\u001b[0;34m.\u001b[0m\u001b[0mread_obj\u001b[0m\u001b[0;34m(\u001b[0m\u001b[0;34m)\u001b[0m\u001b[0;34m)\u001b[0m\u001b[0;34m\u001b[0m\u001b[0m\n\u001b[0m",
      "\u001b[0;31mTypeError\u001b[0m: 'NoneType' object is not callable"
     ]
    }
   ],
   "source": [
    "print(x.read_obj())"
   ]
  },
  {
   "cell_type": "code",
   "execution_count": 50,
   "metadata": {},
   "outputs": [
    {
     "ename": "TypeError",
     "evalue": "'NoneType' object is not iterable",
     "output_type": "error",
     "traceback": [
      "\u001b[0;31m---------------------------------------------------------------------------\u001b[0m",
      "\u001b[0;31mTypeError\u001b[0m                                 Traceback (most recent call last)",
      "\u001b[0;32m<ipython-input-50-757ca61aeb6d>\u001b[0m in \u001b[0;36m<module>\u001b[0;34m()\u001b[0m\n\u001b[0;32m----> 1\u001b[0;31m \u001b[0;32mfor\u001b[0m \u001b[0mnode\u001b[0m \u001b[0;32min\u001b[0m \u001b[0mx\u001b[0m\u001b[0;34m.\u001b[0m\u001b[0mforwardnodes\u001b[0m\u001b[0;34m:\u001b[0m \u001b[0mprint\u001b[0m\u001b[0;34m(\u001b[0m\u001b[0mrepr\u001b[0m\u001b[0;34m(\u001b[0m\u001b[0mnode\u001b[0m\u001b[0;34m.\u001b[0m\u001b[0mdata\u001b[0m\u001b[0;34m.\u001b[0m\u001b[0mmodule\u001b[0m\u001b[0;34m)\u001b[0m\u001b[0;34m)\u001b[0m\u001b[0;34m\u001b[0m\u001b[0m\n\u001b[0m",
      "\u001b[0;31mTypeError\u001b[0m: 'NoneType' object is not iterable"
     ]
    }
   ],
   "source": [
    "for node in x.forwardnodes: print(repr(node.data.module))"
   ]
  },
  {
   "cell_type": "code",
   "execution_count": 54,
   "metadata": {},
   "outputs": [
    {
     "ename": "KeyError",
     "evalue": "'a'",
     "output_type": "error",
     "traceback": [
      "\u001b[0;31m---------------------------------------------------------------------------\u001b[0m",
      "\u001b[0;31mKeyError\u001b[0m                                  Traceback (most recent call last)",
      "\u001b[0;32m<ipython-input-54-3a746b6264b0>\u001b[0m in \u001b[0;36m<module>\u001b[0;34m()\u001b[0m\n\u001b[0;32m----> 1\u001b[0;31m \u001b[0mprint\u001b[0m\u001b[0;34m(\u001b[0m\u001b[0mx\u001b[0m\u001b[0;34m[\u001b[0m\u001b[0;34m'a'\u001b[0m\u001b[0;34m]\u001b[0m\u001b[0;34m)\u001b[0m\u001b[0;34m\u001b[0m\u001b[0m\n\u001b[0m",
      "\u001b[0;31mKeyError\u001b[0m: 'a'"
     ]
    }
   ],
   "source": [
    "print(x['a'])"
   ]
  },
  {
   "cell_type": "code",
   "execution_count": 3,
   "metadata": {},
   "outputs": [
    {
     "data": {
      "text/plain": [
       "{b'char': array([[20, 20,  2, ..., 20, 20,  1],\n",
       "        [ 8,  8,  9, ...,  8,  8, 70],\n",
       "        [ 5,  5, 18, ...,  5,  9, 12],\n",
       "        ...,\n",
       "        [ 0,  0,  0, ...,  0,  0,  0],\n",
       "        [ 0,  0,  0, ...,  0,  0,  0],\n",
       "        [ 0,  0,  0, ...,  0,  0,  0]], dtype=uint8),\n",
       " b'img': b'001.Black_footed_Albatross/Black_Footed_Albatross_0001_796111.jpg',\n",
       " b'txt': array([[ 0.14630565,  0.07529251, -0.14672843, ...,  0.1335168 ,\n",
       "         -0.05091072,  0.06831592],\n",
       "        [-0.14165802,  0.07501723, -0.27785587, ...,  0.20928383,\n",
       "         -0.06036843,  0.02220769],\n",
       "        [-0.0746242 ,  0.08307108,  0.01122767, ..., -0.01601726,\n",
       "         -0.04239886,  0.06527315],\n",
       "        ...,\n",
       "        [-0.07132838,  0.14448294,  0.01963867, ...,  0.10207879,\n",
       "         -0.04089497,  0.1620223 ],\n",
       "        [-0.14182189,  0.18111429,  0.12296141, ...,  0.25485054,\n",
       "         -0.03752122,  0.03291069],\n",
       "        [-0.13247126,  0.06431941, -0.11012293, ...,  0.20811954,\n",
       "         -0.0269249 , -0.0880892 ]], dtype=float32),\n",
       " b'word': array([[ 52,  52, 249,  30,  52, 171,  30,  52,  30, 146],\n",
       "        [243, 249, 189, 249, 249,   0, 249, 124, 249, 153],\n",
       "        [153,   0,  55, 189, 189, 146, 189, 164,   0, 168],\n",
       "        [249,  88, 164, 146, 250, 125,  55,   0, 168, 249],\n",
       "        [189, 242, 131,  88, 177,  45,  53,  88, 179,  95],\n",
       "        [146,  55, 138,  55, 170, 177, 170,  55, 141, 146],\n",
       "        [ 88,  95, 105,  81, 153,  95, 146,  82,  95, 177],\n",
       "        [242, 146, 131, 164,  55,  92, 138,   0, 146, 154],\n",
       "        [141,  31, 170, 141, 176, 176,  79,  52, 153, 170],\n",
       "        [146,  52,  92,  95,  82, 110,  65,  29,  52, 146],\n",
       "        [ 92,  29, 158, 146, 174,  81,  52,  95, 158, 177],\n",
       "        [141, 170,   1,   1,  82, 170,  28, 146,   1,  92],\n",
       "        [ 52, 146,   1, 138, 146, 158,  45, 138,   1, 158],\n",
       "        [158, 223,   1,  20,  92, 170, 181, 197,   1,   1],\n",
       "        [170, 167,   1,  31, 164, 189, 177, 100,   1,   1],\n",
       "        [177, 110,   1,  52, 170, 146,  52, 216,   1,   1],\n",
       "        [176,   1,   1,  28, 146, 138,  55,  52,   1,   1],\n",
       "        [  1,   1,   1,  45, 177,  79, 158,  29,   1,   1],\n",
       "        [  1,   1,   1,  52,  92,  65,   1, 215,   1,   1],\n",
       "        [  1,   1,   1,  29, 158,  52,   1,  52,   1,   1],\n",
       "        [  1,   1,   1,   1,   1,  28,   1,  51,   1,   1],\n",
       "        [  1,   1,   1,   1,   1,  45,   1,   1,   1,   1],\n",
       "        [  1,   1,   1,   1,   1, 181,   1,   1,   1,   1],\n",
       "        [  1,   1,   1,   1,   1, 158,   1,   1,   1,   1],\n",
       "        [  1,   1,   1,   1,   1,   1,   1,   1,   1,   1],\n",
       "        [  1,   1,   1,   1,   1,   1,   1,   1,   1,   1],\n",
       "        [  1,   1,   1,   1,   1,   1,   1,   1,   1,   1],\n",
       "        [  1,   1,   1,   1,   1,   1,   1,   1,   1,   1],\n",
       "        [  1,   1,   1,   1,   1,   1,   1,   1,   1,   1],\n",
       "        [  1,   1,   1,   1,   1,   1,   1,   1,   1,   1]], dtype=uint8)}"
      ]
     },
     "execution_count": 3,
     "metadata": {},
     "output_type": "execute_result"
    }
   ],
   "source": [
    "x"
   ]
  },
  {
   "cell_type": "code",
   "execution_count": 7,
   "metadata": {},
   "outputs": [
    {
     "ename": "KeyError",
     "evalue": "b'img'",
     "output_type": "error",
     "traceback": [
      "\u001b[0;31m---------------------------------------------------------------------------\u001b[0m",
      "\u001b[0;31mKeyError\u001b[0m                                  Traceback (most recent call last)",
      "\u001b[0;32m<ipython-input-7-fab63379cb18>\u001b[0m in \u001b[0;36m<module>\u001b[0;34m()\u001b[0m\n\u001b[0;32m----> 1\u001b[0;31m \u001b[0mx\u001b[0m\u001b[0;34m[\u001b[0m\u001b[0;34mb'img'\u001b[0m\u001b[0;34m]\u001b[0m\u001b[0;34m\u001b[0m\u001b[0m\n\u001b[0m",
      "\u001b[0;31mKeyError\u001b[0m: b'img'"
     ]
    }
   ],
   "source": [
    "x[b'img']"
   ]
  },
  {
   "cell_type": "code",
   "execution_count": null,
   "metadata": {},
   "outputs": [],
   "source": []
  }
 ],
 "metadata": {
  "kernelspec": {
   "display_name": "Python 3",
   "language": "python",
   "name": "python3"
  },
  "language_info": {
   "codemirror_mode": {
    "name": "ipython",
    "version": 3
   },
   "file_extension": ".py",
   "mimetype": "text/x-python",
   "name": "python",
   "nbconvert_exporter": "python",
   "pygments_lexer": "ipython3",
   "version": "3.6.3"
  }
 },
 "nbformat": 4,
 "nbformat_minor": 2
}
